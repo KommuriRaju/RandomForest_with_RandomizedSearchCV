{
 "cells": [
  {
   "cell_type": "markdown",
   "metadata": {
    "id": "Rrs4ecLVxxyB"
   },
   "source": [
    "---\n",
    "# **Table of Contents**\n",
    "---\n",
    "\n",
    "**1.** [**Introduction**](#Section1)<br>\n",
    "**2.** [**Problem Statement**](#Section2)<br>\n",
    "**3.** [**Installing & Importing Libraries**](#Section3)<br>\n",
    "  - **3.1** [**Installing Libraries**](#Section31)\n",
    "  - **3.2** [**Upgrading Libraries**](#Section32)\n",
    "  - **3.3** [**Importing Libraries**](#Section33)\n",
    "\n",
    "**4.** [**Data Acquisition & Description**](#Section4)<br>\n",
    "  - **4.1** [**Data Description**](#Section41)\n",
    "  - **4.2** [**Data Information**](#Section42)\n",
    "\n",
    "**5.** [**Data Pre-processing**](#Section5)<br>\n",
    "  - **5.1** [**Data Pre-profiling**](#Section51)<br>\n",
    "  - **5.2** [**Data Cleaning**](#Section52)<br>\n",
    "  - **5.3** [**Data Post-profiling**](#Section53)<br>\n",
    "\n",
    "**6.** [**Exploratory Data Analysis**](#Section6)<br>\n",
    "**7.** [**Data Post-Processing**](#Section7)<br>\n",
    "  - **7.1** [**Data Encoding**](#Section71)<br> \n",
    "  - **7.2** [**Data Scaling**](#Section72)<br>\n",
    "  - **7.3** [**Data Preparation**](#Section73)<br>\n",
    "\n",
    "**8.** [**Model Development & Evaluation**](#Section8)<br>\n",
    "**9.** [**Summarization**](#Section9)<br>\n",
    "  - **9.1** [**Conclusion**](#Section91)<br>\n",
    "  - **9.2** [**Actionable Insights**](#Section92)<br>"
   ]
  },
  {
   "cell_type": "markdown",
   "metadata": {
    "id": "TtA6ebp2x1m1"
   },
   "source": [
    "---\n",
    "<a name = Section1></a>\n",
    "# **1. Introduction**\n",
    "---\n",
    "\n",
    "- Random forests or random decision forests are an **ensemble learning** method for classification, regression and other tasks.\n",
    "\n",
    "- It is a type of ensemble learning method, where a **group** of **weak models** **combine** to form a **powerful model**.\n",
    "\n",
    "- They operates by constructing a **multitude** of **decision trees** at training time.\n",
    "\n",
    "- They give **output** of the class that is the **mode** of the classes or **mean/average** prediction of the individual trees.\n",
    "\n",
    "<center><img src=\"https://miro.medium.com/max/1280/1*9kACduxnce_JdTrftM_bsA.gif\"></center>\n",
    "\n",
    "\n",
    "**<h3>Example:</h3>**\n",
    "\n",
    "- Let's say there is a guy named **Mukesh** who wants to **decide** **places** that he should **travel** during a **one-year vacation trip** in India.\n",
    "\n",
    "- He went to his best friend named **Lakhan** for **good advice** on traveling places in India. \n",
    "\n",
    "- Lakhan asked him to give some **details** such as which **places** he has **traveled** to in the **past** and whether he liked it or not.\n",
    "\n",
    "- Based on the information obtained from Mukesh he gave him some advice X.\n",
    "\n",
    "- This whole approach was traversed just like how a decision tree works.\n",
    "\n",
    "<center><img width=40% src=\"https://i.pinimg.com/originals/34/4f/00/344f00a12189ec55237e1a23df572789.gif\"></center>\n",
    "\n",
    "- Mukesh's friend created **IF-THEN rules** to guide him to make a good decision.\n",
    "\n",
    "- Afterward, Mukesh starts taking **more advice** from **different friends**.\n",
    "\n",
    "- The whole **process** of questionaries of past and likes/dislikes was **repeated** several times.\n",
    "\n",
    "- Then he chooses the places that are recommended the most to him, which is the typical Random Forest algorithm approach."
   ]
  },
  {
   "cell_type": "markdown",
   "metadata": {
    "id": "_e4njE0k20Km"
   },
   "source": [
    "**<h3>Advantages and Disadvantages</h3>**\n",
    "\n",
    "\n",
    "**<h4>Advantages</h4>**\n",
    "- It can be used for both regression and classification tasks.\n",
    "\n",
    "- It is easy to view the relative importance classifier assigns to the input features.\n",
    "\n",
    "- They handle the missing values on its own and understanding hyperparameter setting is easy.\n",
    "\n",
    "- They helps to prevent overfitting of the data over the model.\n",
    "\n",
    "**<h4>Disadvantages</h4>**\n",
    "\n",
    "- A large number of trees can make the algorithm slow and ineffective for real-time predictions.\n",
    "\n",
    "- The alogrithm produces a predictive model and not a descriptive one i.e. explaining the model is difficult.\n",
    "\n",
    "- A black box approach for statistical modelers i.e. you have a very little control on what the model does."
   ]
  },
  {
   "cell_type": "markdown",
   "metadata": {
    "id": "6PD50alP7PbO"
   },
   "source": [
    "---\n",
    "<a name = Section2></a>\n",
    "# **2. Problem Statement**\n",
    "---\n",
    "\n",
    "- RMS **Titanic** was a British passenger liner operated by the **White Star Line** that **sank** in the North Atlantic Ocean on 15 April 1912.\n",
    "\n",
    "- On **April 15, 1912** the **Titanic** **sank**, costing the lives of **1502 out of 2224** passengers and crew.\n",
    "\n",
    "- Unfortunately, there **weren’t enough lifeboats** for everyone onboard, causing a **disproportionate** number of **deaths**.\n",
    "\n",
    "- The reason behind **sinking** of this beauty was because of **striking** to an **iceberg** while travelling from **Southampton** to **New York City**.\n",
    "\n",
    "- While there was some element of **luck** involved in surviving, it seems some **groups of people** were more likely to **survive** than others.\n",
    "\n",
    "<center><img src=\"https://raw.githubusercontent.com/HirenRupchandani/Credit-Management-System/master/boat-sinking-2.gif\"></center>\n",
    "\n",
    "\n",
    "<a name = Section21></a>\n",
    "### **Scenario**\n",
    "\n",
    "- One of the most **popular disasters** in the history is the **sinking** of the RMS **Titanic**.\n",
    "\n",
    "\n",
    "- Let's say, after the accident, there is a need to implement **better regulations** for passenger liners.\n",
    "\n",
    "- As a part of a data science team, you have been tasked with **analyzing the passenger data** of the RMS Titanic.\n",
    "\n",
    "- You have been **provided** with the **data** that contains the information about the **passengers** aboarded the ship.\n",
    "\n",
    "- The purpose is to **analyze** and **explore** **factors** that can influence a person’s **likelihood to survive**.\n",
    "\n",
    "- So, the primary objectives are to:\n",
    "\n",
    "  -\tDo a statistical analysis of **how** some group of **people** were **survived** more than others.\n",
    "\n",
    "  - Perform an Exploratory Data Analysis of titanic dataset with **visualizations** and **storytelling**."
   ]
  },
  {
   "cell_type": "markdown",
   "metadata": {
    "id": "uqq_eeCl7T--"
   },
   "source": [
    "---\n",
    "<a name = Section3></a>\n",
    "# **3. Installing & Importing Libraries**\n",
    "---"
   ]
  },
  {
   "cell_type": "markdown",
   "metadata": {
    "id": "RM7-_O1X7Vvn"
   },
   "source": [
    "<a name = Section31></a>\n",
    "### **3.1 Installing Libraries**"
   ]
  },
  {
   "cell_type": "code",
   "execution_count": 1,
   "metadata": {
    "id": "EqWDecMZ5GXa"
   },
   "outputs": [
    {
     "name": "stderr",
     "output_type": "stream",
     "text": [
      "ERROR: Invalid requirement: '#'\n",
      "WARNING: You are using pip version 21.2.2; however, version 21.3 is available.\n",
      "You should consider upgrading via the 'c:\\users\\kommurir\\anaconda3\\python.exe -m pip install --upgrade pip' command.\n",
      "ERROR: Invalid requirement: '#'\n",
      "WARNING: You are using pip version 21.2.2; however, version 21.3 is available.\n",
      "You should consider upgrading via the 'c:\\users\\kommurir\\anaconda3\\python.exe -m pip install --upgrade pip' command.\n",
      "ERROR: Invalid requirement: '#'\n",
      "WARNING: You are using pip version 21.2.2; however, version 21.3 is available.\n",
      "You should consider upgrading via the 'c:\\users\\kommurir\\anaconda3\\python.exe -m pip install --upgrade pip' command.\n"
     ]
    }
   ],
   "source": [
    "!pip install -q datascience                                         # Package that is required by pandas profiling\n",
    "!pip install -q pandas-profiling                                    # Library to generate basic statistics about data\n",
    "!pip install -q yellowbrick                                         # Toolbox for Measuring Machine Performance"
   ]
  },
  {
   "cell_type": "markdown",
   "metadata": {
    "id": "5LAMqJCd7Xcm"
   },
   "source": [
    "<a name = Section32></a>\n",
    "### **3.2 Upgrading Libraries**\n",
    "\n",
    "- **After upgrading** the libraries, you need to **restart the runtime** to make the libraries in sync. \n",
    "\n",
    "- Make sure not to execute the cell above (3.1) and below (3.2) again after restarting the runtime."
   ]
  },
  {
   "cell_type": "code",
   "execution_count": null,
   "metadata": {
    "id": "9NLstXPu7XVF"
   },
   "outputs": [],
   "source": [
    "!pip install -q --upgrade pandas-profiling\n",
    "!pip install -q --upgrade yellowbrick"
   ]
  },
  {
   "cell_type": "markdown",
   "metadata": {
    "id": "WTASHFS47cFv"
   },
   "source": [
    "<a name = Section33></a>\n",
    "### **3.3 Importing Libraries**"
   ]
  },
  {
   "cell_type": "code",
   "execution_count": 2,
   "metadata": {
    "id": "IvwRw1f77a-U"
   },
   "outputs": [
    {
     "ename": "ModuleNotFoundError",
     "evalue": "No module named 'pydotplus'",
     "output_type": "error",
     "traceback": [
      "\u001b[1;31m---------------------------------------------------------------------------\u001b[0m",
      "\u001b[1;31mModuleNotFoundError\u001b[0m                       Traceback (most recent call last)",
      "\u001b[1;32m<ipython-input-2-aeed43bc56be>\u001b[0m in \u001b[0;36m<module>\u001b[1;34m\u001b[0m\n\u001b[0;32m     20\u001b[0m \u001b[1;32mfrom\u001b[0m \u001b[0msklearn\u001b[0m\u001b[1;33m.\u001b[0m\u001b[0mmetrics\u001b[0m \u001b[1;32mimport\u001b[0m \u001b[0mclassification_report\u001b[0m                   \u001b[1;31m# To generate classification report\u001b[0m\u001b[1;33m\u001b[0m\u001b[1;33m\u001b[0m\u001b[0m\n\u001b[0;32m     21\u001b[0m \u001b[1;32mfrom\u001b[0m \u001b[0msklearn\u001b[0m\u001b[1;33m.\u001b[0m\u001b[0mmetrics\u001b[0m \u001b[1;32mimport\u001b[0m \u001b[0mplot_confusion_matrix\u001b[0m                   \u001b[1;31m# To plot confusion matrix\u001b[0m\u001b[1;33m\u001b[0m\u001b[1;33m\u001b[0m\u001b[0m\n\u001b[1;32m---> 22\u001b[1;33m \u001b[1;32mimport\u001b[0m \u001b[0mpydotplus\u001b[0m                                                    \u001b[1;31m# To generate pydot file\u001b[0m\u001b[1;33m\u001b[0m\u001b[1;33m\u001b[0m\u001b[0m\n\u001b[0m\u001b[0;32m     23\u001b[0m \u001b[1;32mfrom\u001b[0m \u001b[0mIPython\u001b[0m\u001b[1;33m.\u001b[0m\u001b[0mdisplay\u001b[0m \u001b[1;32mimport\u001b[0m \u001b[0mImage\u001b[0m                                   \u001b[1;31m# To generate image using pydot file\u001b[0m\u001b[1;33m\u001b[0m\u001b[1;33m\u001b[0m\u001b[0m\n\u001b[0;32m     24\u001b[0m \u001b[1;31m#-------------------------------------------------------------------------------------------------------------------------------\u001b[0m\u001b[1;33m\u001b[0m\u001b[1;33m\u001b[0m\u001b[1;33m\u001b[0m\u001b[0m\n",
      "\u001b[1;31mModuleNotFoundError\u001b[0m: No module named 'pydotplus'"
     ]
    }
   ],
   "source": [
    "#------------------------------------------------------------------------------------------------------------------------------\n",
    "import pandas as pd                                                 # Importing for panel data analysis\n",
    "from pandas_profiling import ProfileReport                          # Import Pandas Profiling (To generate Univariate Analysis)\n",
    "pd.set_option('display.max_columns', None)                          # Unfolding hidden features if the cardinality is high\n",
    "pd.set_option('display.max_rows', None)                             # Unfolding hidden data points if the cardinality is high\n",
    "pd.set_option('mode.chained_assignment', None)                      # Removing restriction over chained assignments operations\n",
    "#-------------------------------------------------------------------------------------------------------------------------------\n",
    "import numpy as np                                                  # Importing package numpys (For Numerical Python)\n",
    "from scipy.stats import randint as sp_randint                       # For initializing random integer values\n",
    "#-------------------------------------------------------------------------------------------------------------------------------\n",
    "import matplotlib.pyplot as plt                                     # Importing pyplot interface using matplotlib\n",
    "import seaborn as sns                                               # Importin seaborm library for interactive visualization\n",
    "%matplotlib inline\n",
    "#-------------------------------------------------------------------------------------------------------------------------------\n",
    "from sklearn.preprocessing import StandardScaler                    # To scaled data with mean 0 and variance 1\n",
    "from sklearn.model_selection import train_test_split                # To split the data in training and testing part\n",
    "from sklearn.model_selection import RandomizedSearchCV              # To find best hyperparamter setting for the algorithm\n",
    "from sklearn.ensemble import RandomForestClassifier                 # To implement random forest classifier\n",
    "from sklearn.tree import DecisionTreeClassifier                     # To implement decision tree classifier\n",
    "from sklearn.metrics import classification_report                   # To generate classification report\n",
    "from sklearn.metrics import plot_confusion_matrix                   # To plot confusion matrix\n",
    "import pydotplus                                                    # To generate pydot file\n",
    "from IPython.display import Image                                   # To generate image using pydot file\n",
    "#-------------------------------------------------------------------------------------------------------------------------------\n",
    "import warnings                                                     # Importing warning to disable runtime warnings\n",
    "warnings.filterwarnings(\"ignore\")                                   # Warnings will appear only once"
   ]
  },
  {
   "cell_type": "markdown",
   "metadata": {
    "id": "UrpwmWxc7iif"
   },
   "source": [
    "---\n",
    "<a name = Section4></a>\n",
    "# **4. Data Acquisition & Description**\n",
    "---\n",
    "\n",
    "- The **dataset** consists of the information about **people boarding** the famous **RMS Titanic**.\n",
    "\n",
    "\n",
    "| Records | Features | Dataset Size |\n",
    "| :-- | :-- | :-- |\n",
    "| 891 | 12 | 58.9 KB | \n",
    "\n",
    "<br>\n",
    "\n",
    "| ID | Feature Name | Description of the feature |\n",
    "| :-- | :--| :--| \n",
    "|01| **PassengerId**   | Identity of the passenger                                    |\n",
    "|02| **Survived**      | Whether the passenger survived or not                 |\n",
    "|03| **Pclass**        | Class of the ticket holder                            |\n",
    "|04| **Name**          | Name of the passenger                                 |\n",
    "|05| **Sex**           | Sex of the passenger                                  |\n",
    "|06| **Age**           | Age of the passenger                                  |\n",
    "|07| **SibSp**     | Siblings and/or spouse travelling with passenger |\n",
    "|08| **Parch**     | Parents and/or children travelling with passenger|\n",
    "|09| **Ticket**        | Ticket number                                         |\n",
    "|10| **Fare**          | Price of the ticket                                   |\n",
    "|11| **Cabin**         | Cabin number                                          |\n",
    "|12| **Embarked**     | Port of Embarkation                                   |"
   ]
  },
  {
   "cell_type": "code",
   "execution_count": 5,
   "metadata": {
    "colab": {
     "base_uri": "https://localhost:8080/",
     "height": 221
    },
    "executionInfo": {
     "elapsed": 1743,
     "status": "ok",
     "timestamp": 1621504116011,
     "user": {
      "displayName": "Mukesh Kumar",
      "photoUrl": "https://lh3.googleusercontent.com/a-/AOh14GjTZH-ccUwdv--s75Iw1qfyi7gtUyH2m_-htD2e=s64",
      "userId": "01238672520445611335"
     },
     "user_tz": -330
    },
    "id": "xxBLyDgo7a7H",
    "outputId": "935af028-c453-4e66-f4a4-facdbae0d5e9"
   },
   "outputs": [
    {
     "name": "stdout",
     "output_type": "stream",
     "text": [
      "Shape of the dataset: (891, 13)\n"
     ]
    },
    {
     "data": {
      "text/html": [
       "<div>\n",
       "<style scoped>\n",
       "    .dataframe tbody tr th:only-of-type {\n",
       "        vertical-align: middle;\n",
       "    }\n",
       "\n",
       "    .dataframe tbody tr th {\n",
       "        vertical-align: top;\n",
       "    }\n",
       "\n",
       "    .dataframe thead th {\n",
       "        text-align: right;\n",
       "    }\n",
       "</style>\n",
       "<table border=\"1\" class=\"dataframe\">\n",
       "  <thead>\n",
       "    <tr style=\"text-align: right;\">\n",
       "      <th></th>\n",
       "      <th>Unnamed: 0</th>\n",
       "      <th>PassengerId</th>\n",
       "      <th>Survived</th>\n",
       "      <th>Pclass</th>\n",
       "      <th>Name</th>\n",
       "      <th>Sex</th>\n",
       "      <th>Age</th>\n",
       "      <th>SibSp</th>\n",
       "      <th>Parch</th>\n",
       "      <th>Ticket</th>\n",
       "      <th>Fare</th>\n",
       "      <th>Cabin</th>\n",
       "      <th>Embarked</th>\n",
       "    </tr>\n",
       "  </thead>\n",
       "  <tbody>\n",
       "    <tr>\n",
       "      <th>0</th>\n",
       "      <td>0</td>\n",
       "      <td>1</td>\n",
       "      <td>0</td>\n",
       "      <td>3</td>\n",
       "      <td>Braund, Mr. Owen Harris</td>\n",
       "      <td>male</td>\n",
       "      <td>22.0</td>\n",
       "      <td>1</td>\n",
       "      <td>0</td>\n",
       "      <td>A/5 21171</td>\n",
       "      <td>7.2500</td>\n",
       "      <td>NaN</td>\n",
       "      <td>S</td>\n",
       "    </tr>\n",
       "    <tr>\n",
       "      <th>1</th>\n",
       "      <td>1</td>\n",
       "      <td>2</td>\n",
       "      <td>1</td>\n",
       "      <td>1</td>\n",
       "      <td>Cumings, Mrs. John Bradley (Florence Briggs Th...</td>\n",
       "      <td>female</td>\n",
       "      <td>38.0</td>\n",
       "      <td>1</td>\n",
       "      <td>0</td>\n",
       "      <td>PC 17599</td>\n",
       "      <td>71.2833</td>\n",
       "      <td>C85</td>\n",
       "      <td>C</td>\n",
       "    </tr>\n",
       "    <tr>\n",
       "      <th>2</th>\n",
       "      <td>2</td>\n",
       "      <td>3</td>\n",
       "      <td>1</td>\n",
       "      <td>3</td>\n",
       "      <td>Heikkinen, Miss. Laina</td>\n",
       "      <td>female</td>\n",
       "      <td>26.0</td>\n",
       "      <td>0</td>\n",
       "      <td>0</td>\n",
       "      <td>STON/O2. 3101282</td>\n",
       "      <td>7.9250</td>\n",
       "      <td>NaN</td>\n",
       "      <td>S</td>\n",
       "    </tr>\n",
       "    <tr>\n",
       "      <th>3</th>\n",
       "      <td>3</td>\n",
       "      <td>4</td>\n",
       "      <td>1</td>\n",
       "      <td>1</td>\n",
       "      <td>Futrelle, Mrs. Jacques Heath (Lily May Peel)</td>\n",
       "      <td>female</td>\n",
       "      <td>35.0</td>\n",
       "      <td>1</td>\n",
       "      <td>0</td>\n",
       "      <td>113803</td>\n",
       "      <td>53.1000</td>\n",
       "      <td>C123</td>\n",
       "      <td>S</td>\n",
       "    </tr>\n",
       "    <tr>\n",
       "      <th>4</th>\n",
       "      <td>4</td>\n",
       "      <td>5</td>\n",
       "      <td>0</td>\n",
       "      <td>3</td>\n",
       "      <td>Allen, Mr. William Henry</td>\n",
       "      <td>male</td>\n",
       "      <td>35.0</td>\n",
       "      <td>0</td>\n",
       "      <td>0</td>\n",
       "      <td>373450</td>\n",
       "      <td>8.0500</td>\n",
       "      <td>NaN</td>\n",
       "      <td>S</td>\n",
       "    </tr>\n",
       "  </tbody>\n",
       "</table>\n",
       "</div>"
      ],
      "text/plain": [
       "   Unnamed: 0  PassengerId  Survived  Pclass  \\\n",
       "0           0            1         0       3   \n",
       "1           1            2         1       1   \n",
       "2           2            3         1       3   \n",
       "3           3            4         1       1   \n",
       "4           4            5         0       3   \n",
       "\n",
       "                                                Name     Sex   Age  SibSp  \\\n",
       "0                            Braund, Mr. Owen Harris    male  22.0      1   \n",
       "1  Cumings, Mrs. John Bradley (Florence Briggs Th...  female  38.0      1   \n",
       "2                             Heikkinen, Miss. Laina  female  26.0      0   \n",
       "3       Futrelle, Mrs. Jacques Heath (Lily May Peel)  female  35.0      1   \n",
       "4                           Allen, Mr. William Henry    male  35.0      0   \n",
       "\n",
       "   Parch            Ticket     Fare Cabin Embarked  \n",
       "0      0         A/5 21171   7.2500   NaN        S  \n",
       "1      0          PC 17599  71.2833   C85        C  \n",
       "2      0  STON/O2. 3101282   7.9250   NaN        S  \n",
       "3      0            113803  53.1000  C123        S  \n",
       "4      0            373450   8.0500   NaN        S  "
      ]
     },
     "execution_count": 5,
     "metadata": {},
     "output_type": "execute_result"
    }
   ],
   "source": [
    "# Load the data\n",
    "data = pd.read_csv(filepath_or_buffer='https://raw.githubusercontent.com/KommuriRaju/RandomForest_with_RandomizedSearchCV/main/Titanic_Data_Set_Used_RandomizedSearchCV/Titanic_Data_set_Random_Forest_RandomizedSearchCV.csv')\n",
    "\n",
    "# Get the dimesions of data\n",
    "print('Shape of the dataset:', data.shape)\n",
    "\n",
    "# Output first 5 data rows\n",
    "data.head()"
   ]
  },
  {
   "cell_type": "markdown",
   "metadata": {
    "id": "SpQsei5Q8BGS"
   },
   "source": [
    "<a name = Section41></a>\n",
    "### **4.1 Data Description**\n",
    "\n",
    "- In this section we will get **information about the data** and see some observations."
   ]
  },
  {
   "cell_type": "code",
   "execution_count": null,
   "metadata": {
    "colab": {
     "base_uri": "https://localhost:8080/",
     "height": 297
    },
    "executionInfo": {
     "elapsed": 2813,
     "status": "ok",
     "timestamp": 1621504117112,
     "user": {
      "displayName": "Mukesh Kumar",
      "photoUrl": "https://lh3.googleusercontent.com/a-/AOh14GjTZH-ccUwdv--s75Iw1qfyi7gtUyH2m_-htD2e=s64",
      "userId": "01238672520445611335"
     },
     "user_tz": -330
    },
    "id": "vmYaroaO7XSG",
    "outputId": "93357c27-34cd-4d65-ac92-5fff31c9c0d8"
   },
   "outputs": [
    {
     "data": {
      "text/html": [
       "<div>\n",
       "<style scoped>\n",
       "    .dataframe tbody tr th:only-of-type {\n",
       "        vertical-align: middle;\n",
       "    }\n",
       "\n",
       "    .dataframe tbody tr th {\n",
       "        vertical-align: top;\n",
       "    }\n",
       "\n",
       "    .dataframe thead th {\n",
       "        text-align: right;\n",
       "    }\n",
       "</style>\n",
       "<table border=\"1\" class=\"dataframe\">\n",
       "  <thead>\n",
       "    <tr style=\"text-align: right;\">\n",
       "      <th></th>\n",
       "      <th>PassengerId</th>\n",
       "      <th>Survived</th>\n",
       "      <th>Pclass</th>\n",
       "      <th>Age</th>\n",
       "      <th>SibSp</th>\n",
       "      <th>Parch</th>\n",
       "      <th>Fare</th>\n",
       "    </tr>\n",
       "  </thead>\n",
       "  <tbody>\n",
       "    <tr>\n",
       "      <th>count</th>\n",
       "      <td>891.000000</td>\n",
       "      <td>891.000000</td>\n",
       "      <td>891.000000</td>\n",
       "      <td>714.000000</td>\n",
       "      <td>891.000000</td>\n",
       "      <td>891.000000</td>\n",
       "      <td>891.000000</td>\n",
       "    </tr>\n",
       "    <tr>\n",
       "      <th>mean</th>\n",
       "      <td>446.000000</td>\n",
       "      <td>0.383838</td>\n",
       "      <td>2.308642</td>\n",
       "      <td>29.699118</td>\n",
       "      <td>0.523008</td>\n",
       "      <td>0.381594</td>\n",
       "      <td>32.204208</td>\n",
       "    </tr>\n",
       "    <tr>\n",
       "      <th>std</th>\n",
       "      <td>257.353842</td>\n",
       "      <td>0.486592</td>\n",
       "      <td>0.836071</td>\n",
       "      <td>14.526497</td>\n",
       "      <td>1.102743</td>\n",
       "      <td>0.806057</td>\n",
       "      <td>49.693429</td>\n",
       "    </tr>\n",
       "    <tr>\n",
       "      <th>min</th>\n",
       "      <td>1.000000</td>\n",
       "      <td>0.000000</td>\n",
       "      <td>1.000000</td>\n",
       "      <td>0.420000</td>\n",
       "      <td>0.000000</td>\n",
       "      <td>0.000000</td>\n",
       "      <td>0.000000</td>\n",
       "    </tr>\n",
       "    <tr>\n",
       "      <th>25%</th>\n",
       "      <td>223.500000</td>\n",
       "      <td>0.000000</td>\n",
       "      <td>2.000000</td>\n",
       "      <td>20.125000</td>\n",
       "      <td>0.000000</td>\n",
       "      <td>0.000000</td>\n",
       "      <td>7.910400</td>\n",
       "    </tr>\n",
       "    <tr>\n",
       "      <th>50%</th>\n",
       "      <td>446.000000</td>\n",
       "      <td>0.000000</td>\n",
       "      <td>3.000000</td>\n",
       "      <td>28.000000</td>\n",
       "      <td>0.000000</td>\n",
       "      <td>0.000000</td>\n",
       "      <td>14.454200</td>\n",
       "    </tr>\n",
       "    <tr>\n",
       "      <th>75%</th>\n",
       "      <td>668.500000</td>\n",
       "      <td>1.000000</td>\n",
       "      <td>3.000000</td>\n",
       "      <td>38.000000</td>\n",
       "      <td>1.000000</td>\n",
       "      <td>0.000000</td>\n",
       "      <td>31.000000</td>\n",
       "    </tr>\n",
       "    <tr>\n",
       "      <th>max</th>\n",
       "      <td>891.000000</td>\n",
       "      <td>1.000000</td>\n",
       "      <td>3.000000</td>\n",
       "      <td>80.000000</td>\n",
       "      <td>8.000000</td>\n",
       "      <td>6.000000</td>\n",
       "      <td>512.329200</td>\n",
       "    </tr>\n",
       "  </tbody>\n",
       "</table>\n",
       "</div>"
      ],
      "text/plain": [
       "       PassengerId    Survived      Pclass         Age       SibSp  \\\n",
       "count   891.000000  891.000000  891.000000  714.000000  891.000000   \n",
       "mean    446.000000    0.383838    2.308642   29.699118    0.523008   \n",
       "std     257.353842    0.486592    0.836071   14.526497    1.102743   \n",
       "min       1.000000    0.000000    1.000000    0.420000    0.000000   \n",
       "25%     223.500000    0.000000    2.000000   20.125000    0.000000   \n",
       "50%     446.000000    0.000000    3.000000   28.000000    0.000000   \n",
       "75%     668.500000    1.000000    3.000000   38.000000    1.000000   \n",
       "max     891.000000    1.000000    3.000000   80.000000    8.000000   \n",
       "\n",
       "            Parch        Fare  \n",
       "count  891.000000  891.000000  \n",
       "mean     0.381594   32.204208  \n",
       "std      0.806057   49.693429  \n",
       "min      0.000000    0.000000  \n",
       "25%      0.000000    7.910400  \n",
       "50%      0.000000   14.454200  \n",
       "75%      0.000000   31.000000  \n",
       "max      6.000000  512.329200  "
      ]
     },
     "execution_count": 70,
     "metadata": {
      "tags": []
     },
     "output_type": "execute_result"
    }
   ],
   "source": [
    "data.describe()"
   ]
  },
  {
   "cell_type": "markdown",
   "metadata": {
    "id": "rgdPuEzB8Ncn"
   },
   "source": [
    "**Observations:**\n",
    "\n",
    "> **Survived**: \n",
    "- More than 50% did not survive the accident.\n",
    "\n",
    "> **Pclass**:\n",
    "- There are a lot **more 3rd class** passengers than **1st and 2nd class**.\n",
    "- We can also see that there are **more 2nd class** passengers **than 1st class** passengers.\n",
    "\n",
    "> **SibSp**:\n",
    "- More than **50%** of passengers are **not travelling** with their **siblings** or a **spouse**.\n",
    "- There are **some** passengers who are travelling with as **maximum** as **8 siblings and spouse**.\n",
    "\n",
    "> **Parch**:\n",
    "- More than **75%** passengers are not travelling with a **parent** or **children**\n",
    "- But there are some passengers who have a **maximum** number of **6 children** and/or **parents** with them on the ship.\n",
    "- We observe that a vast majority of passengers **are not travelling** with their family members.\n",
    "\n",
    "> **Age**:\n",
    "- The **average age** of passengers is around **29 years** while the **minimum** and **maximum** ages are **0.4 years** and **80 years** respectively.\n",
    "- There is some **missing** data in the **Age** feature.\n",
    "\n",
    "> **Fare**:\n",
    "- The **average price** of ticket seems to be **£32.2**. **Minimum** price of the ticket is recorded as **£0** and **maximum** price recorded as high as **£512.32**.\n",
    "- More than **50%** of the passengers have paid atleast **£14**\n",
    "- More than **75%** passengers have paid atleast **£7** for their ticket whereas **less than 25%** have paid for **more than £31**.\n",
    "- We have to replace the minimum value in the **Fare** feature with a reasonable value."
   ]
  },
  {
   "cell_type": "markdown",
   "metadata": {
    "id": "dQQ5Ks4P8PFv"
   },
   "source": [
    "<a name = Section42></a>\n",
    "### **4.2 Data Information**\n",
    "\n",
    "- In this section we will see the **information about the types of the features**."
   ]
  },
  {
   "cell_type": "code",
   "execution_count": null,
   "metadata": {
    "colab": {
     "base_uri": "https://localhost:8080/"
    },
    "executionInfo": {
     "elapsed": 2800,
     "status": "ok",
     "timestamp": 1621504117117,
     "user": {
      "displayName": "Mukesh Kumar",
      "photoUrl": "https://lh3.googleusercontent.com/a-/AOh14GjTZH-ccUwdv--s75Iw1qfyi7gtUyH2m_-htD2e=s64",
      "userId": "01238672520445611335"
     },
     "user_tz": -330
    },
    "id": "m3Rpdt3E8O0b",
    "outputId": "21c917b5-7fce-4777-9104-41b01d8b56f7"
   },
   "outputs": [
    {
     "name": "stdout",
     "output_type": "stream",
     "text": [
      "<class 'pandas.core.frame.DataFrame'>\n",
      "RangeIndex: 891 entries, 0 to 890\n",
      "Data columns (total 12 columns):\n",
      " #   Column       Non-Null Count  Dtype  \n",
      "---  ------       --------------  -----  \n",
      " 0   PassengerId  891 non-null    int64  \n",
      " 1   Survived     891 non-null    int64  \n",
      " 2   Pclass       891 non-null    int64  \n",
      " 3   Name         891 non-null    object \n",
      " 4   Sex          891 non-null    object \n",
      " 5   Age          714 non-null    float64\n",
      " 6   SibSp        891 non-null    int64  \n",
      " 7   Parch        891 non-null    int64  \n",
      " 8   Ticket       891 non-null    object \n",
      " 9   Fare         891 non-null    float64\n",
      " 10  Cabin        204 non-null    object \n",
      " 11  Embarked     889 non-null    object \n",
      "dtypes: float64(2), int64(5), object(5)\n",
      "memory usage: 83.7+ KB\n"
     ]
    }
   ],
   "source": [
    "data.info()"
   ]
  },
  {
   "cell_type": "markdown",
   "metadata": {
    "id": "n-SrlC0x8VIj"
   },
   "source": [
    "**Observations:**\n",
    "\n",
    "- The **data types** of all the features look appropriate.\n",
    "\n",
    "- There are **missing** values present in the **Age**, **Cabin** and **Embarked** features.\n",
    "\n",
    "- **Age** and **Cabin** have a significant amount of **missing values** which **requires** **further investigation**."
   ]
  },
  {
   "cell_type": "markdown",
   "metadata": {
    "id": "oQSEAjYy8XfW"
   },
   "source": [
    "<a name = Section5></a>\n",
    "\n",
    "---\n",
    "# **5. Data Pre-Processing**\n",
    "---"
   ]
  },
  {
   "cell_type": "markdown",
   "metadata": {
    "id": "4L4wU-sm8ZLg"
   },
   "source": [
    "<a name = Section51></a>\n",
    "### **5.1 Data Pre-Profiling**\n",
    "\n",
    "- For **quick analysis** pandas profiling is very handy.\n",
    "\n",
    "- Generates profile reports from a pandas DataFrame.\n",
    "\n",
    "- For each column **statistics** are presented in an interactive HTML report."
   ]
  },
  {
   "cell_type": "code",
   "execution_count": null,
   "metadata": {
    "id": "luX_DzAx8Owo"
   },
   "outputs": [],
   "source": [
    "# profile = ProfileReport(df=data)\n",
    "# profile.to_file(output_file='Pre Profiling Report.html')\n",
    "# print('Accomplished!')"
   ]
  },
  {
   "cell_type": "markdown",
   "metadata": {
    "id": "tNG4bnZe8b6o"
   },
   "source": [
    "**Observations:**\n",
    "\n",
    "- The report shows that there are a **total** of **12 features** out of which **7** are **numerical** and **5** are **categorical**.\n",
    "\n",
    "- Only **342** passengers out of **891** survived the accident.\n",
    "\n",
    "- **Name**, **Ticket**, and **Cabin** features have high cardinality and are uniformly distributed.\n",
    "\n",
    "- **PassengerId** is having a uniformly distribution in the dataset.\n",
    "\n",
    "- **Fare** feature is highly skewed towards right while **Age** feature is faily symmetrical.\n",
    "\n",
    "- There are **no duplicate** rows in the dataset while a lot of **zeros** are present in **Fare**, **Sibsp** and **Parch** features.\n",
    "\n",
    "- We can observe that **8.1%** of data in cells is **missing**:\n",
    "  - Age (17 missing values) &rarr; Fill with median.\n",
    "\n",
    "  - Cabin (687 missing values) &rarr; Fill with median.\n",
    "  \n",
    "  - Embarked (2 missing values) &rarr; Fill with mode.\n",
    "\n",
    "- **Embarked** feature has just **2 missing values**.\n",
    "\n",
    "- For detailed information, check the **Pre Profiling Report.html** file."
   ]
  },
  {
   "cell_type": "markdown",
   "metadata": {
    "id": "fM-c50LH88C0"
   },
   "source": [
    "<a name = Section52></a>\n",
    "### **5.2 Data Cleaning**\n",
    "\n",
    "- Now we will perform all the necessary operations that are required to clean and rectify the schema of the dataset."
   ]
  },
  {
   "cell_type": "code",
   "execution_count": null,
   "metadata": {
    "id": "X304Z2dt8buQ"
   },
   "outputs": [],
   "source": [
    "# Filling the missing values of Embarked feature with the mode of the feature.\n",
    "data['Embarked'] = data['Embarked'].fillna(value=data['Embarked'].mode()[0])\n",
    "\n",
    "# Filling the missing values of Age feature with the median age.\n",
    "data['Age'].fillna(value=data['Age'].median(), inplace=True)\n",
    "\n",
    "# Dropping the Cabin feature\n",
    "data.drop(labels='Cabin', axis=1, inplace=True)"
   ]
  },
  {
   "cell_type": "markdown",
   "metadata": {
    "id": "QLwWFES98-I8"
   },
   "source": [
    "<a name = Section53></a>\n",
    "### **5.3 Data Post-Profiling**\n",
    "\n",
    "- Next, we will generate and verify the report to identify any new observation that can help us in further analysis."
   ]
  },
  {
   "cell_type": "code",
   "execution_count": null,
   "metadata": {
    "id": "ciU9rER48-BI"
   },
   "outputs": [],
   "source": [
    "# post_profile=ProfileReport(df=data)\n",
    "# post_profile.to_file(output_file='Post Profiling Report.html')\n",
    "# print('Accomplished!')"
   ]
  },
  {
   "cell_type": "markdown",
   "metadata": {
    "id": "ta0YDE_B9CrW"
   },
   "source": [
    "**Observations:**\n",
    "\n",
    "- You can compare the two reports, i.e **Pre Profiling Report.html** and **Post Profiling Report.html**.\n",
    "\n",
    "- Observations in Post Profiling Report.html:\n",
    "\n",
    "  - In the Dataset info, **Total Missing** = **0.0%**\n",
    "\n",
    "  - Number of **features** = **11**\n",
    "\n",
    "  - You can see the difference in the **Age** feature in both the reports.\n",
    "\n",
    "  - A lot of zeros are present in **Sibsp** and **Parch** features. They won't be removed as they are necessary.\n",
    "\n",
    "  - We can observe that **Pclass** and **Fare** are highly **correlated** to each other **inversely**.\n",
    "\n",
    "  - A lot of **inverse correlations** are observed among the features.\n",
    "\n",
    "  - For detailed information, check the **Post Profiling Report.html** file.\n",
    "\n",
    "- We can now begin the Exploratory Data Analysis."
   ]
  },
  {
   "cell_type": "markdown",
   "metadata": {
    "id": "yRiwgAJL9IrJ"
   },
   "source": [
    "<a name = Section6></a>\n",
    "\n",
    "---\n",
    "# **6. Exploratory Data Analysis**\n",
    "---\n",
    "\n",
    "**NOTE**:  \n",
    "\n",
    "- Before diving further, we will **create** some **new features** that will be useful for analyzing the data.\n",
    "\n",
    "- These features will be **FamilySize** and **Title**.\n",
    "\n",
    "- The **FamilySize** will describe the frequency of family members.\n",
    "\n",
    "- The **Title** will describe salutation of the passenger."
   ]
  },
  {
   "cell_type": "code",
   "execution_count": null,
   "metadata": {
    "colab": {
     "base_uri": "https://localhost:8080/",
     "height": 204
    },
    "executionInfo": {
     "elapsed": 2758,
     "status": "ok",
     "timestamp": 1621504117124,
     "user": {
      "displayName": "Mukesh Kumar",
      "photoUrl": "https://lh3.googleusercontent.com/a-/AOh14GjTZH-ccUwdv--s75Iw1qfyi7gtUyH2m_-htD2e=s64",
      "userId": "01238672520445611335"
     },
     "user_tz": -330
    },
    "id": "wdu8sPrH8bq8",
    "outputId": "23ce9ac3-8b87-4334-d458-c32dbbdaecef"
   },
   "outputs": [
    {
     "data": {
      "text/html": [
       "<div>\n",
       "<style scoped>\n",
       "    .dataframe tbody tr th:only-of-type {\n",
       "        vertical-align: middle;\n",
       "    }\n",
       "\n",
       "    .dataframe tbody tr th {\n",
       "        vertical-align: top;\n",
       "    }\n",
       "\n",
       "    .dataframe thead th {\n",
       "        text-align: right;\n",
       "    }\n",
       "</style>\n",
       "<table border=\"1\" class=\"dataframe\">\n",
       "  <thead>\n",
       "    <tr style=\"text-align: right;\">\n",
       "      <th></th>\n",
       "      <th>PassengerId</th>\n",
       "      <th>Survived</th>\n",
       "      <th>Pclass</th>\n",
       "      <th>Name</th>\n",
       "      <th>Sex</th>\n",
       "      <th>Age</th>\n",
       "      <th>SibSp</th>\n",
       "      <th>Parch</th>\n",
       "      <th>Ticket</th>\n",
       "      <th>Fare</th>\n",
       "      <th>Embarked</th>\n",
       "      <th>FamilySize</th>\n",
       "      <th>Title</th>\n",
       "    </tr>\n",
       "  </thead>\n",
       "  <tbody>\n",
       "    <tr>\n",
       "      <th>0</th>\n",
       "      <td>1</td>\n",
       "      <td>0</td>\n",
       "      <td>3</td>\n",
       "      <td>Braund, Mr. Owen Harris</td>\n",
       "      <td>male</td>\n",
       "      <td>22.0</td>\n",
       "      <td>1</td>\n",
       "      <td>0</td>\n",
       "      <td>A/5 21171</td>\n",
       "      <td>7.2500</td>\n",
       "      <td>S</td>\n",
       "      <td>2</td>\n",
       "      <td>Mr</td>\n",
       "    </tr>\n",
       "    <tr>\n",
       "      <th>1</th>\n",
       "      <td>2</td>\n",
       "      <td>1</td>\n",
       "      <td>1</td>\n",
       "      <td>Cumings, Mrs. John Bradley (Florence Briggs Th...</td>\n",
       "      <td>female</td>\n",
       "      <td>38.0</td>\n",
       "      <td>1</td>\n",
       "      <td>0</td>\n",
       "      <td>PC 17599</td>\n",
       "      <td>71.2833</td>\n",
       "      <td>C</td>\n",
       "      <td>2</td>\n",
       "      <td>Mrs</td>\n",
       "    </tr>\n",
       "    <tr>\n",
       "      <th>2</th>\n",
       "      <td>3</td>\n",
       "      <td>1</td>\n",
       "      <td>3</td>\n",
       "      <td>Heikkinen, Miss. Laina</td>\n",
       "      <td>female</td>\n",
       "      <td>26.0</td>\n",
       "      <td>0</td>\n",
       "      <td>0</td>\n",
       "      <td>STON/O2. 3101282</td>\n",
       "      <td>7.9250</td>\n",
       "      <td>S</td>\n",
       "      <td>1</td>\n",
       "      <td>Miss</td>\n",
       "    </tr>\n",
       "    <tr>\n",
       "      <th>3</th>\n",
       "      <td>4</td>\n",
       "      <td>1</td>\n",
       "      <td>1</td>\n",
       "      <td>Futrelle, Mrs. Jacques Heath (Lily May Peel)</td>\n",
       "      <td>female</td>\n",
       "      <td>35.0</td>\n",
       "      <td>1</td>\n",
       "      <td>0</td>\n",
       "      <td>113803</td>\n",
       "      <td>53.1000</td>\n",
       "      <td>S</td>\n",
       "      <td>2</td>\n",
       "      <td>Mrs</td>\n",
       "    </tr>\n",
       "    <tr>\n",
       "      <th>4</th>\n",
       "      <td>5</td>\n",
       "      <td>0</td>\n",
       "      <td>3</td>\n",
       "      <td>Allen, Mr. William Henry</td>\n",
       "      <td>male</td>\n",
       "      <td>35.0</td>\n",
       "      <td>0</td>\n",
       "      <td>0</td>\n",
       "      <td>373450</td>\n",
       "      <td>8.0500</td>\n",
       "      <td>S</td>\n",
       "      <td>1</td>\n",
       "      <td>Mr</td>\n",
       "    </tr>\n",
       "  </tbody>\n",
       "</table>\n",
       "</div>"
      ],
      "text/plain": [
       "   PassengerId  Survived  Pclass  \\\n",
       "0            1         0       3   \n",
       "1            2         1       1   \n",
       "2            3         1       3   \n",
       "3            4         1       1   \n",
       "4            5         0       3   \n",
       "\n",
       "                                                Name     Sex   Age  SibSp  \\\n",
       "0                            Braund, Mr. Owen Harris    male  22.0      1   \n",
       "1  Cumings, Mrs. John Bradley (Florence Briggs Th...  female  38.0      1   \n",
       "2                             Heikkinen, Miss. Laina  female  26.0      0   \n",
       "3       Futrelle, Mrs. Jacques Heath (Lily May Peel)  female  35.0      1   \n",
       "4                           Allen, Mr. William Henry    male  35.0      0   \n",
       "\n",
       "   Parch            Ticket     Fare Embarked  FamilySize Title  \n",
       "0      0         A/5 21171   7.2500        S           2    Mr  \n",
       "1      0          PC 17599  71.2833        C           2   Mrs  \n",
       "2      0  STON/O2. 3101282   7.9250        S           1  Miss  \n",
       "3      0            113803  53.1000        S           2   Mrs  \n",
       "4      0            373450   8.0500        S           1    Mr  "
      ]
     },
     "execution_count": 75,
     "metadata": {
      "tags": []
     },
     "output_type": "execute_result"
    }
   ],
   "source": [
    "# Creating a new feature FamilySize from Sibsp and Parch\n",
    "data['FamilySize'] = data['SibSp'] + data['Parch'] + 1\n",
    "\n",
    "# Creating Title feature from Name\n",
    "data['Title'] = data['Name'].str.extract(pat=' ([A-Za-z]+)\\.', expand=False)\n",
    "\n",
    "data.head()"
   ]
  },
  {
   "cell_type": "markdown",
   "metadata": {
    "id": "ej3o6BqY9Mzm"
   },
   "source": [
    "**<h4>Question:** How is the title associated with the sex of the passengers?</h4>"
   ]
  },
  {
   "cell_type": "code",
   "execution_count": null,
   "metadata": {
    "colab": {
     "base_uri": "https://localhost:8080/",
     "height": 142
    },
    "executionInfo": {
     "elapsed": 2741,
     "status": "ok",
     "timestamp": 1621504117126,
     "user": {
      "displayName": "Mukesh Kumar",
      "photoUrl": "https://lh3.googleusercontent.com/a-/AOh14GjTZH-ccUwdv--s75Iw1qfyi7gtUyH2m_-htD2e=s64",
      "userId": "01238672520445611335"
     },
     "user_tz": -330
    },
    "id": "ybWuS4pQ8bnC",
    "outputId": "7306f3ff-ab94-4529-f0da-922699d97ac1"
   },
   "outputs": [
    {
     "data": {
      "text/html": [
       "<div>\n",
       "<style scoped>\n",
       "    .dataframe tbody tr th:only-of-type {\n",
       "        vertical-align: middle;\n",
       "    }\n",
       "\n",
       "    .dataframe tbody tr th {\n",
       "        vertical-align: top;\n",
       "    }\n",
       "\n",
       "    .dataframe thead th {\n",
       "        text-align: right;\n",
       "    }\n",
       "</style>\n",
       "<table border=\"1\" class=\"dataframe\">\n",
       "  <thead>\n",
       "    <tr style=\"text-align: right;\">\n",
       "      <th>Title</th>\n",
       "      <th>Capt</th>\n",
       "      <th>Col</th>\n",
       "      <th>Countess</th>\n",
       "      <th>Don</th>\n",
       "      <th>Dr</th>\n",
       "      <th>Jonkheer</th>\n",
       "      <th>Lady</th>\n",
       "      <th>Major</th>\n",
       "      <th>Master</th>\n",
       "      <th>Miss</th>\n",
       "      <th>Mlle</th>\n",
       "      <th>Mme</th>\n",
       "      <th>Mr</th>\n",
       "      <th>Mrs</th>\n",
       "      <th>Ms</th>\n",
       "      <th>Rev</th>\n",
       "      <th>Sir</th>\n",
       "    </tr>\n",
       "    <tr>\n",
       "      <th>Sex</th>\n",
       "      <th></th>\n",
       "      <th></th>\n",
       "      <th></th>\n",
       "      <th></th>\n",
       "      <th></th>\n",
       "      <th></th>\n",
       "      <th></th>\n",
       "      <th></th>\n",
       "      <th></th>\n",
       "      <th></th>\n",
       "      <th></th>\n",
       "      <th></th>\n",
       "      <th></th>\n",
       "      <th></th>\n",
       "      <th></th>\n",
       "      <th></th>\n",
       "      <th></th>\n",
       "    </tr>\n",
       "  </thead>\n",
       "  <tbody>\n",
       "    <tr>\n",
       "      <th>female</th>\n",
       "      <td>0</td>\n",
       "      <td>0</td>\n",
       "      <td>1</td>\n",
       "      <td>0</td>\n",
       "      <td>1</td>\n",
       "      <td>0</td>\n",
       "      <td>1</td>\n",
       "      <td>0</td>\n",
       "      <td>0</td>\n",
       "      <td>182</td>\n",
       "      <td>2</td>\n",
       "      <td>1</td>\n",
       "      <td>0</td>\n",
       "      <td>125</td>\n",
       "      <td>1</td>\n",
       "      <td>0</td>\n",
       "      <td>0</td>\n",
       "    </tr>\n",
       "    <tr>\n",
       "      <th>male</th>\n",
       "      <td>1</td>\n",
       "      <td>2</td>\n",
       "      <td>0</td>\n",
       "      <td>1</td>\n",
       "      <td>6</td>\n",
       "      <td>1</td>\n",
       "      <td>0</td>\n",
       "      <td>2</td>\n",
       "      <td>40</td>\n",
       "      <td>0</td>\n",
       "      <td>0</td>\n",
       "      <td>0</td>\n",
       "      <td>517</td>\n",
       "      <td>0</td>\n",
       "      <td>0</td>\n",
       "      <td>6</td>\n",
       "      <td>1</td>\n",
       "    </tr>\n",
       "  </tbody>\n",
       "</table>\n",
       "</div>"
      ],
      "text/plain": [
       "Title   Capt  Col  Countess  Don  Dr  Jonkheer  Lady  Major  Master  Miss  \\\n",
       "Sex                                                                         \n",
       "female     0    0         1    0   1         0     1      0       0   182   \n",
       "male       1    2         0    1   6         1     0      2      40     0   \n",
       "\n",
       "Title   Mlle  Mme   Mr  Mrs  Ms  Rev  Sir  \n",
       "Sex                                        \n",
       "female     2    1    0  125   1    0    0  \n",
       "male       0    0  517    0   0    6    1  "
      ]
     },
     "execution_count": 76,
     "metadata": {
      "tags": []
     },
     "output_type": "execute_result"
    }
   ],
   "source": [
    "# Creating a crosstab between Sex and Title\n",
    "pd.crosstab(index=data['Sex'], columns=data['Title'])"
   ]
  },
  {
   "cell_type": "markdown",
   "metadata": {
    "id": "WrsxeOte9RYX"
   },
   "source": [
    "- There are **a lot of titles** for passengers. We will **simplify** these into selected categories.\n",
    "\n",
    "- We will arrange the Males and Females into Mr, Mrs, Master, and Miss and put the **neutral** titles as **Other**"
   ]
  },
  {
   "cell_type": "code",
   "execution_count": null,
   "metadata": {
    "id": "rfOm__dq8OtS"
   },
   "outputs": [],
   "source": [
    "# Rearranging titles into common titles\n",
    "data['Title'].replace(to_replace=['Mlle', 'Mme', 'Ms', 'Dr', 'Major', 'Lady', 'Countess', 'Jonkheer', 'Col', 'Rev', 'Capt', 'Sir', 'Don'],\n",
    "                      value=['Miss', 'Miss', 'Miss', 'Other', 'Mr', 'Mrs', 'Mrs', 'Other', 'Other', 'Other', 'Mr', 'Mr', 'Mr'],\n",
    "                      inplace=True)"
   ]
  },
  {
   "cell_type": "markdown",
   "metadata": {
    "id": "Vqiu9LZl9VyZ"
   },
   "source": [
    "- Let's now check again for **Title** and **Sex** features."
   ]
  },
  {
   "cell_type": "code",
   "execution_count": null,
   "metadata": {
    "colab": {
     "base_uri": "https://localhost:8080/",
     "height": 142
    },
    "executionInfo": {
     "elapsed": 2708,
     "status": "ok",
     "timestamp": 1621504117128,
     "user": {
      "displayName": "Mukesh Kumar",
      "photoUrl": "https://lh3.googleusercontent.com/a-/AOh14GjTZH-ccUwdv--s75Iw1qfyi7gtUyH2m_-htD2e=s64",
      "userId": "01238672520445611335"
     },
     "user_tz": -330
    },
    "id": "NUdyjdBC9YB-",
    "outputId": "239bc409-7edc-4f22-8792-c2ba22ad6278"
   },
   "outputs": [
    {
     "data": {
      "text/html": [
       "<div>\n",
       "<style scoped>\n",
       "    .dataframe tbody tr th:only-of-type {\n",
       "        vertical-align: middle;\n",
       "    }\n",
       "\n",
       "    .dataframe tbody tr th {\n",
       "        vertical-align: top;\n",
       "    }\n",
       "\n",
       "    .dataframe thead th {\n",
       "        text-align: right;\n",
       "    }\n",
       "</style>\n",
       "<table border=\"1\" class=\"dataframe\">\n",
       "  <thead>\n",
       "    <tr style=\"text-align: right;\">\n",
       "      <th>Title</th>\n",
       "      <th>Master</th>\n",
       "      <th>Miss</th>\n",
       "      <th>Mr</th>\n",
       "      <th>Mrs</th>\n",
       "      <th>Other</th>\n",
       "    </tr>\n",
       "    <tr>\n",
       "      <th>Sex</th>\n",
       "      <th></th>\n",
       "      <th></th>\n",
       "      <th></th>\n",
       "      <th></th>\n",
       "      <th></th>\n",
       "    </tr>\n",
       "  </thead>\n",
       "  <tbody>\n",
       "    <tr>\n",
       "      <th>female</th>\n",
       "      <td>0</td>\n",
       "      <td>186</td>\n",
       "      <td>0</td>\n",
       "      <td>127</td>\n",
       "      <td>1</td>\n",
       "    </tr>\n",
       "    <tr>\n",
       "      <th>male</th>\n",
       "      <td>40</td>\n",
       "      <td>0</td>\n",
       "      <td>522</td>\n",
       "      <td>0</td>\n",
       "      <td>15</td>\n",
       "    </tr>\n",
       "  </tbody>\n",
       "</table>\n",
       "</div>"
      ],
      "text/plain": [
       "Title   Master  Miss   Mr  Mrs  Other\n",
       "Sex                                  \n",
       "female       0   186    0  127      1\n",
       "male        40     0  522    0     15"
      ]
     },
     "execution_count": 78,
     "metadata": {
      "tags": []
     },
     "output_type": "execute_result"
    }
   ],
   "source": [
    "# Creating a crosstab between Sex and Title again\n",
    "pd.crosstab(index=data['Sex'], columns=data['Title'])"
   ]
  },
  {
   "cell_type": "markdown",
   "metadata": {
    "id": "opRjU6Xl9aI2"
   },
   "source": [
    "**<h4>Question:** What is the relationship between age and the title of the passengers?</h4>"
   ]
  },
  {
   "cell_type": "code",
   "execution_count": null,
   "metadata": {
    "colab": {
     "base_uri": "https://localhost:8080/",
     "height": 452
    },
    "executionInfo": {
     "elapsed": 2689,
     "status": "ok",
     "timestamp": 1621504117129,
     "user": {
      "displayName": "Mukesh Kumar",
      "photoUrl": "https://lh3.googleusercontent.com/a-/AOh14GjTZH-ccUwdv--s75Iw1qfyi7gtUyH2m_-htD2e=s64",
      "userId": "01238672520445611335"
     },
     "user_tz": -330
    },
    "id": "PXWUtCo89X-a",
    "outputId": "ce89edde-dcd9-4b15-dc29-1b9b63693a92"
   },
   "outputs": [
    {
     "data": {
      "image/png": "[encoded data removed]",
      "text/plain": [
       "<Figure size 1512x504 with 1 Axes>"
      ]
     },
     "metadata": {
      "needs_background": "light",
      "tags": []
     },
     "output_type": "display_data"
    }
   ],
   "source": [
    "# Plot a catplot for Age comparing the title of passengers\n",
    "sns.catplot(x=\"Age\", y=\"Title\", data=data, size=7, aspect=3)\n",
    "\n",
    "# Add cosmetics \n",
    "plt.xticks(size=12)\n",
    "plt.yticks(size=12)\n",
    "plt.xlabel(xlabel='Age', size=14)\n",
    "plt.ylabel(ylabel='Title', size=14)\n",
    "plt.title(label='Age concerning Title of Passengers', size=16)\n",
    "plt.grid(b=True)\n",
    "\n",
    "# Display the plot\n",
    "plt.show()"
   ]
  },
  {
   "cell_type": "markdown",
   "metadata": {
    "id": "oBw1Cuz39ejl"
   },
   "source": [
    "### **Observations**:\n",
    "\n",
    "- **Titles** of passengers **don't match** the standard considered by us.\n",
    "\n",
    "- This is because there are some **Masters** with **age** around **25 years** and **Misters** as young as **10 years** old.\n",
    "\n",
    "- **Mrs** can be debated based on the **age** of the female gender.\n",
    "\n",
    "- Some **males** and **females** (**Age<18**) can have marital status as **married** that explains their title as Mr and Mrs but such **data** is **not available** to us."
   ]
  },
  {
   "cell_type": "markdown",
   "metadata": {
    "id": "1AWJDDYa9g1C"
   },
   "source": [
    "**<h4>Question:** Does the title play an important role in the survival of the passengers?</h4>"
   ]
  },
  {
   "cell_type": "code",
   "execution_count": null,
   "metadata": {
    "colab": {
     "base_uri": "https://localhost:8080/",
     "height": 467
    },
    "executionInfo": {
     "elapsed": 3398,
     "status": "ok",
     "timestamp": 1621504117856,
     "user": {
      "displayName": "Mukesh Kumar",
      "photoUrl": "https://lh3.googleusercontent.com/a-/AOh14GjTZH-ccUwdv--s75Iw1qfyi7gtUyH2m_-htD2e=s64",
      "userId": "01238672520445611335"
     },
     "user_tz": -330
    },
    "id": "5KpbATYN9X6-",
    "outputId": "dd6dc834-55bb-465b-b27f-33d4e016fa60"
   },
   "outputs": [
    {
     "data": {
      "image/png": "[encoded data removed]",
      "text/plain": [
       "<Figure size 1080x504 with 1 Axes>"
      ]
     },
     "metadata": {
      "needs_background": "light",
      "tags": []
     },
     "output_type": "display_data"
    }
   ],
   "source": [
    "# Instantiate a figure of size of 15 x 7 inches\n",
    "fig = plt.figure(figsize=[15, 7])\n",
    "\n",
    "# Creating countplot of title vs survive\n",
    "ax = sns.countplot(y='Title', hue='Survived', data=data, palette='hls')\n",
    "\n",
    "# Adding percentages to the bars\n",
    "total = data.shape[0]\n",
    "for p in ax.patches:\n",
    "    percentage = '{:.2f}%'.format(100 * p.get_width() / total)\n",
    "    x = p.get_x() + p.get_width()\n",
    "    y = p.get_y() + p.get_height() / 2\n",
    "    ax.annotate(percentage, (x, y))\n",
    "\n",
    "# Adding some cosmetics\n",
    "plt.yticks(size=12)\n",
    "plt.xticks(size=12)\n",
    "plt.xlabel(xlabel=\"Count\", size=14)\n",
    "plt.ylabel(ylabel='Title', size=14)\n",
    "plt.title(label=\"Count plot for Title concerning with survival\", size=16)\n",
    "plt.legend(labels=[\"Didn't Survive\", \"Survive\"])\n",
    "plt.grid(b=True)\n",
    "\n",
    "# Display the figure\n",
    "plt.show()"
   ]
  },
  {
   "cell_type": "markdown",
   "metadata": {
    "id": "uAnvsyp-9kiy"
   },
   "source": [
    "**Observations**:\n",
    "\n",
    "- **Mrs** and **Miss** have particularly **higher** **survival** rate as compared to the rest of the titles.\n",
    "\n",
    "- We can see that the passengers with the title \"**Mr**\" **died** the **most**.\n",
    "\n",
    "- There are rarely any passengers with the **Other** title. We can't conclude if they were given more priority during the rescue."
   ]
  },
  {
   "cell_type": "markdown",
   "metadata": {
    "id": "kVvrSEOg9pt_"
   },
   "source": [
    "**Note:** These are few question we need to analyze before moving further and if you want to dig deeper into this, feel free to do so..."
   ]
  },
  {
   "cell_type": "markdown",
   "metadata": {
    "id": "47do_cxsDnU6"
   },
   "source": [
    "<a name = Section7></a>\n",
    "\n",
    "---\n",
    "# **7. Data Post-Processing**\n",
    "---\n",
    "\n"
   ]
  },
  {
   "cell_type": "markdown",
   "metadata": {
    "id": "cG1bbgdYEz43"
   },
   "source": [
    "<a name = Section71></a>\n",
    "### **7.1 Data Encoding**\n",
    "\n",
    "- In this section, we will encode our categorical features such as Sex, Embarked, Title using one hot encoding."
   ]
  },
  {
   "cell_type": "code",
   "execution_count": null,
   "metadata": {
    "colab": {
     "base_uri": "https://localhost:8080/",
     "height": 267
    },
    "executionInfo": {
     "elapsed": 3381,
     "status": "ok",
     "timestamp": 1621504117858,
     "user": {
      "displayName": "Mukesh Kumar",
      "photoUrl": "https://lh3.googleusercontent.com/a-/AOh14GjTZH-ccUwdv--s75Iw1qfyi7gtUyH2m_-htD2e=s64",
      "userId": "01238672520445611335"
     },
     "user_tz": -330
    },
    "id": "WCxzp3cL9X3I",
    "outputId": "65bb4f0f-deaf-4af7-8d76-78a3c65ad246"
   },
   "outputs": [
    {
     "data": {
      "text/html": [
       "<div>\n",
       "<style scoped>\n",
       "    .dataframe tbody tr th:only-of-type {\n",
       "        vertical-align: middle;\n",
       "    }\n",
       "\n",
       "    .dataframe tbody tr th {\n",
       "        vertical-align: top;\n",
       "    }\n",
       "\n",
       "    .dataframe thead th {\n",
       "        text-align: right;\n",
       "    }\n",
       "</style>\n",
       "<table border=\"1\" class=\"dataframe\">\n",
       "  <thead>\n",
       "    <tr style=\"text-align: right;\">\n",
       "      <th></th>\n",
       "      <th>PassengerId</th>\n",
       "      <th>Survived</th>\n",
       "      <th>Pclass</th>\n",
       "      <th>Name</th>\n",
       "      <th>Age</th>\n",
       "      <th>SibSp</th>\n",
       "      <th>Parch</th>\n",
       "      <th>Ticket</th>\n",
       "      <th>Fare</th>\n",
       "      <th>FamilySize</th>\n",
       "      <th>Sex_female</th>\n",
       "      <th>Sex_male</th>\n",
       "      <th>Embarked_C</th>\n",
       "      <th>Embarked_Q</th>\n",
       "      <th>Embarked_S</th>\n",
       "      <th>Title_Master</th>\n",
       "      <th>Title_Miss</th>\n",
       "      <th>Title_Mr</th>\n",
       "      <th>Title_Mrs</th>\n",
       "      <th>Title_Other</th>\n",
       "    </tr>\n",
       "  </thead>\n",
       "  <tbody>\n",
       "    <tr>\n",
       "      <th>0</th>\n",
       "      <td>1</td>\n",
       "      <td>0</td>\n",
       "      <td>3</td>\n",
       "      <td>Braund, Mr. Owen Harris</td>\n",
       "      <td>22.0</td>\n",
       "      <td>1</td>\n",
       "      <td>0</td>\n",
       "      <td>A/5 21171</td>\n",
       "      <td>7.2500</td>\n",
       "      <td>2</td>\n",
       "      <td>0</td>\n",
       "      <td>1</td>\n",
       "      <td>0</td>\n",
       "      <td>0</td>\n",
       "      <td>1</td>\n",
       "      <td>0</td>\n",
       "      <td>0</td>\n",
       "      <td>1</td>\n",
       "      <td>0</td>\n",
       "      <td>0</td>\n",
       "    </tr>\n",
       "    <tr>\n",
       "      <th>1</th>\n",
       "      <td>2</td>\n",
       "      <td>1</td>\n",
       "      <td>1</td>\n",
       "      <td>Cumings, Mrs. John Bradley (Florence Briggs Th...</td>\n",
       "      <td>38.0</td>\n",
       "      <td>1</td>\n",
       "      <td>0</td>\n",
       "      <td>PC 17599</td>\n",
       "      <td>71.2833</td>\n",
       "      <td>2</td>\n",
       "      <td>1</td>\n",
       "      <td>0</td>\n",
       "      <td>1</td>\n",
       "      <td>0</td>\n",
       "      <td>0</td>\n",
       "      <td>0</td>\n",
       "      <td>0</td>\n",
       "      <td>0</td>\n",
       "      <td>1</td>\n",
       "      <td>0</td>\n",
       "    </tr>\n",
       "  </tbody>\n",
       "</table>\n",
       "</div>"
      ],
      "text/plain": [
       "   PassengerId  Survived  Pclass  \\\n",
       "0            1         0       3   \n",
       "1            2         1       1   \n",
       "\n",
       "                                                Name   Age  SibSp  Parch  \\\n",
       "0                            Braund, Mr. Owen Harris  22.0      1      0   \n",
       "1  Cumings, Mrs. John Bradley (Florence Briggs Th...  38.0      1      0   \n",
       "\n",
       "      Ticket     Fare  FamilySize  Sex_female  Sex_male  Embarked_C  \\\n",
       "0  A/5 21171   7.2500           2           0         1           0   \n",
       "1   PC 17599  71.2833           2           1         0           1   \n",
       "\n",
       "   Embarked_Q  Embarked_S  Title_Master  Title_Miss  Title_Mr  Title_Mrs  \\\n",
       "0           0           1             0           0         1          0   \n",
       "1           0           0             0           0         0          1   \n",
       "\n",
       "   Title_Other  \n",
       "0            0  \n",
       "1            0  "
      ]
     },
     "execution_count": 81,
     "metadata": {
      "tags": []
     },
     "output_type": "execute_result"
    }
   ],
   "source": [
    "# Performing one hot encoding over sex, embarked, title\n",
    "data = pd.get_dummies(data=data, columns=['Sex', 'Embarked', 'Title'])\n",
    "data.head(2)"
   ]
  },
  {
   "cell_type": "markdown",
   "metadata": {
    "id": "6gGeIFMfE3xy"
   },
   "source": [
    "<a name = Section72></a>\n",
    "### **7.2 Data Scaling**\n",
    "\n",
    "- In this section, we will scale our features to ensure that it one feature doesn't have more impact than others in terms of weights."
   ]
  },
  {
   "cell_type": "code",
   "execution_count": null,
   "metadata": {
    "colab": {
     "base_uri": "https://localhost:8080/",
     "height": 111
    },
    "executionInfo": {
     "elapsed": 3360,
     "status": "ok",
     "timestamp": 1621504117859,
     "user": {
      "displayName": "Mukesh Kumar",
      "photoUrl": "https://lh3.googleusercontent.com/a-/AOh14GjTZH-ccUwdv--s75Iw1qfyi7gtUyH2m_-htD2e=s64",
      "userId": "01238672520445611335"
     },
     "user_tz": -330
    },
    "id": "Fk84H5RU9X0M",
    "outputId": "27192d2f-2168-482f-f554-0dee88537a49"
   },
   "outputs": [
    {
     "data": {
      "text/html": [
       "<div>\n",
       "<style scoped>\n",
       "    .dataframe tbody tr th:only-of-type {\n",
       "        vertical-align: middle;\n",
       "    }\n",
       "\n",
       "    .dataframe tbody tr th {\n",
       "        vertical-align: top;\n",
       "    }\n",
       "\n",
       "    .dataframe thead th {\n",
       "        text-align: right;\n",
       "    }\n",
       "</style>\n",
       "<table border=\"1\" class=\"dataframe\">\n",
       "  <thead>\n",
       "    <tr style=\"text-align: right;\">\n",
       "      <th></th>\n",
       "      <th>Age</th>\n",
       "      <th>Fare</th>\n",
       "    </tr>\n",
       "  </thead>\n",
       "  <tbody>\n",
       "    <tr>\n",
       "      <th>0</th>\n",
       "      <td>-0.565736</td>\n",
       "      <td>-0.502445</td>\n",
       "    </tr>\n",
       "    <tr>\n",
       "      <th>1</th>\n",
       "      <td>0.663861</td>\n",
       "      <td>0.786845</td>\n",
       "    </tr>\n",
       "  </tbody>\n",
       "</table>\n",
       "</div>"
      ],
      "text/plain": [
       "        Age      Fare\n",
       "0 -0.565736 -0.502445\n",
       "1  0.663861  0.786845"
      ]
     },
     "execution_count": 82,
     "metadata": {
      "tags": []
     },
     "output_type": "execute_result"
    }
   ],
   "source": [
    "# Instatiatig input and output data by dropping unnecessary data features\n",
    "X = data.drop(labels=['PassengerId', 'Name', 'Ticket', 'Age', 'Fare', 'Survived'], axis=1)\n",
    "y = data['Survived']\n",
    "\n",
    "# Instatiate a scaler object and performing transformation on age and fare\n",
    "scaler = StandardScaler()\n",
    "scaled_data = scaler.fit_transform(data[['Age', 'Fare']])\n",
    "data2 = pd.DataFrame(data=scaled_data, columns=['Age', 'Fare'])\n",
    "data2.head(2)"
   ]
  },
  {
   "cell_type": "code",
   "execution_count": null,
   "metadata": {
    "colab": {
     "base_uri": "https://localhost:8080/",
     "height": 224
    },
    "executionInfo": {
     "elapsed": 3341,
     "status": "ok",
     "timestamp": 1621504117861,
     "user": {
      "displayName": "Mukesh Kumar",
      "photoUrl": "https://lh3.googleusercontent.com/a-/AOh14GjTZH-ccUwdv--s75Iw1qfyi7gtUyH2m_-htD2e=s64",
      "userId": "01238672520445611335"
     },
     "user_tz": -330
    },
    "id": "aO5aeU_O9XxY",
    "outputId": "aed96943-1aa3-4179-a490-dcf9623ee3c8"
   },
   "outputs": [
    {
     "data": {
      "text/html": [
       "<div>\n",
       "<style scoped>\n",
       "    .dataframe tbody tr th:only-of-type {\n",
       "        vertical-align: middle;\n",
       "    }\n",
       "\n",
       "    .dataframe tbody tr th {\n",
       "        vertical-align: top;\n",
       "    }\n",
       "\n",
       "    .dataframe thead th {\n",
       "        text-align: right;\n",
       "    }\n",
       "</style>\n",
       "<table border=\"1\" class=\"dataframe\">\n",
       "  <thead>\n",
       "    <tr style=\"text-align: right;\">\n",
       "      <th></th>\n",
       "      <th>Pclass</th>\n",
       "      <th>SibSp</th>\n",
       "      <th>Parch</th>\n",
       "      <th>FamilySize</th>\n",
       "      <th>Sex_female</th>\n",
       "      <th>Sex_male</th>\n",
       "      <th>Embarked_C</th>\n",
       "      <th>Embarked_Q</th>\n",
       "      <th>Embarked_S</th>\n",
       "      <th>Title_Master</th>\n",
       "      <th>Title_Miss</th>\n",
       "      <th>Title_Mr</th>\n",
       "      <th>Title_Mrs</th>\n",
       "      <th>Title_Other</th>\n",
       "      <th>Age</th>\n",
       "      <th>Fare</th>\n",
       "    </tr>\n",
       "  </thead>\n",
       "  <tbody>\n",
       "    <tr>\n",
       "      <th>0</th>\n",
       "      <td>3</td>\n",
       "      <td>1</td>\n",
       "      <td>0</td>\n",
       "      <td>2</td>\n",
       "      <td>0</td>\n",
       "      <td>1</td>\n",
       "      <td>0</td>\n",
       "      <td>0</td>\n",
       "      <td>1</td>\n",
       "      <td>0</td>\n",
       "      <td>0</td>\n",
       "      <td>1</td>\n",
       "      <td>0</td>\n",
       "      <td>0</td>\n",
       "      <td>-0.565736</td>\n",
       "      <td>-0.502445</td>\n",
       "    </tr>\n",
       "    <tr>\n",
       "      <th>1</th>\n",
       "      <td>1</td>\n",
       "      <td>1</td>\n",
       "      <td>0</td>\n",
       "      <td>2</td>\n",
       "      <td>1</td>\n",
       "      <td>0</td>\n",
       "      <td>1</td>\n",
       "      <td>0</td>\n",
       "      <td>0</td>\n",
       "      <td>0</td>\n",
       "      <td>0</td>\n",
       "      <td>0</td>\n",
       "      <td>1</td>\n",
       "      <td>0</td>\n",
       "      <td>0.663861</td>\n",
       "      <td>0.786845</td>\n",
       "    </tr>\n",
       "    <tr>\n",
       "      <th>2</th>\n",
       "      <td>3</td>\n",
       "      <td>0</td>\n",
       "      <td>0</td>\n",
       "      <td>1</td>\n",
       "      <td>1</td>\n",
       "      <td>0</td>\n",
       "      <td>0</td>\n",
       "      <td>0</td>\n",
       "      <td>1</td>\n",
       "      <td>0</td>\n",
       "      <td>1</td>\n",
       "      <td>0</td>\n",
       "      <td>0</td>\n",
       "      <td>0</td>\n",
       "      <td>-0.258337</td>\n",
       "      <td>-0.488854</td>\n",
       "    </tr>\n",
       "    <tr>\n",
       "      <th>3</th>\n",
       "      <td>1</td>\n",
       "      <td>1</td>\n",
       "      <td>0</td>\n",
       "      <td>2</td>\n",
       "      <td>1</td>\n",
       "      <td>0</td>\n",
       "      <td>0</td>\n",
       "      <td>0</td>\n",
       "      <td>1</td>\n",
       "      <td>0</td>\n",
       "      <td>0</td>\n",
       "      <td>0</td>\n",
       "      <td>1</td>\n",
       "      <td>0</td>\n",
       "      <td>0.433312</td>\n",
       "      <td>0.420730</td>\n",
       "    </tr>\n",
       "    <tr>\n",
       "      <th>4</th>\n",
       "      <td>3</td>\n",
       "      <td>0</td>\n",
       "      <td>0</td>\n",
       "      <td>1</td>\n",
       "      <td>0</td>\n",
       "      <td>1</td>\n",
       "      <td>0</td>\n",
       "      <td>0</td>\n",
       "      <td>1</td>\n",
       "      <td>0</td>\n",
       "      <td>0</td>\n",
       "      <td>1</td>\n",
       "      <td>0</td>\n",
       "      <td>0</td>\n",
       "      <td>0.433312</td>\n",
       "      <td>-0.486337</td>\n",
       "    </tr>\n",
       "  </tbody>\n",
       "</table>\n",
       "</div>"
      ],
      "text/plain": [
       "   Pclass  SibSp  Parch  FamilySize  Sex_female  Sex_male  Embarked_C  \\\n",
       "0       3      1      0           2           0         1           0   \n",
       "1       1      1      0           2           1         0           1   \n",
       "2       3      0      0           1           1         0           0   \n",
       "3       1      1      0           2           1         0           0   \n",
       "4       3      0      0           1           0         1           0   \n",
       "\n",
       "   Embarked_Q  Embarked_S  Title_Master  Title_Miss  Title_Mr  Title_Mrs  \\\n",
       "0           0           1             0           0         1          0   \n",
       "1           0           0             0           0         0          1   \n",
       "2           0           1             0           1         0          0   \n",
       "3           0           1             0           0         0          1   \n",
       "4           0           1             0           0         1          0   \n",
       "\n",
       "   Title_Other       Age      Fare  \n",
       "0            0 -0.565736 -0.502445  \n",
       "1            0  0.663861  0.786845  \n",
       "2            0 -0.258337 -0.488854  \n",
       "3            0  0.433312  0.420730  \n",
       "4            0  0.433312 -0.486337  "
      ]
     },
     "execution_count": 83,
     "metadata": {
      "tags": []
     },
     "output_type": "execute_result"
    }
   ],
   "source": [
    "finalX = pd.concat(objs=[X, data2], axis=1)\n",
    "finalX.head()"
   ]
  },
  {
   "cell_type": "markdown",
   "metadata": {
    "id": "VTDUtk4ZE9NQ"
   },
   "source": [
    "<a name = Section73></a>\n",
    "### **7.3 Data Preparation**\n",
    "\n",
    "- Now we will **split** our **data** into **dependent** and **independent** variables for further development."
   ]
  },
  {
   "cell_type": "code",
   "execution_count": null,
   "metadata": {
    "colab": {
     "base_uri": "https://localhost:8080/"
    },
    "executionInfo": {
     "elapsed": 754,
     "status": "ok",
     "timestamp": 1621504184867,
     "user": {
      "displayName": "Mukesh Kumar",
      "photoUrl": "https://lh3.googleusercontent.com/a-/AOh14GjTZH-ccUwdv--s75Iw1qfyi7gtUyH2m_-htD2e=s64",
      "userId": "01238672520445611335"
     },
     "user_tz": -330
    },
    "id": "5J3OJTe-E9st",
    "outputId": "49f1f272-7c0c-43c5-e9af-2e7f3bd7e900"
   },
   "outputs": [
    {
     "name": "stdout",
     "output_type": "stream",
     "text": [
      "X_train shape:  (712, 16)\n",
      "y_train shape:  (712,)\n",
      "X_test shape:  (179, 16)\n",
      "y_test shape:  (179,)\n"
     ]
    }
   ],
   "source": [
    "# Splitting data into training and testing sets\n",
    "X_train, X_test, y_train, y_test = train_test_split(finalX, y, test_size=0.20, random_state=42, stratify=y)\n",
    "\n",
    "# Display the shape of training and testing data\n",
    "print('X_train shape: ', X_train.shape)\n",
    "print('y_train shape: ', y_train.shape)\n",
    "print('X_test shape: ', X_test.shape)\n",
    "print('y_test shape: ', y_test.shape)"
   ]
  },
  {
   "cell_type": "markdown",
   "metadata": {
    "id": "K-mvuWsNFAYJ"
   },
   "source": [
    "<a name = Section8></a>\n",
    "\n",
    "---\n",
    "# **8. Model Development & Evaluation**\n",
    "---\n",
    "\n",
    "- In this section we will **develop a decision Tree model** and Random Forest \n",
    "\n",
    "- Then we will **analyze the results** obtained and **make our observations**.\n",
    "\n",
    "- For **evaluation purpose** we will **focus** on **Precision**, **Recall** and **Accuracy** scores.\n",
    "\n",
    "- We will do **hyperparameter tuning** and see if the scores improves. \n"
   ]
  },
  {
   "cell_type": "markdown",
   "metadata": {
    "id": "susmBGv8TOPl"
   },
   "source": [
    "<a name = Section81></a>\n",
    "### **8.1 Baseline Model Development & Evaluation**\n",
    "\n",
    "- Here we will develop random forest classifier using default setting."
   ]
  },
  {
   "cell_type": "code",
   "execution_count": null,
   "metadata": {
    "colab": {
     "base_uri": "https://localhost:8080/",
     "height": 462
    },
    "executionInfo": {
     "elapsed": 2515,
     "status": "ok",
     "timestamp": 1621504189653,
     "user": {
      "displayName": "Mukesh Kumar",
      "photoUrl": "https://lh3.googleusercontent.com/a-/AOh14GjTZH-ccUwdv--s75Iw1qfyi7gtUyH2m_-htD2e=s64",
      "userId": "01238672520445611335"
     },
     "user_tz": -330
    },
    "id": "aA5BQH1tE9pR",
    "outputId": "bb1ddd56-ae1f-4de4-8df7-35a468fc0b90"
   },
   "outputs": [
    {
     "data": {
      "image/png": "[encoded data removed]",
      "text/plain": [
       "<Figure size 1080x504 with 4 Axes>"
      ]
     },
     "metadata": {
      "needs_background": "light",
      "tags": []
     },
     "output_type": "display_data"
    }
   ],
   "source": [
    "# Instantiate a decision tree classifier\n",
    "clf = RandomForestClassifier(random_state=42, class_weight='balanced')\n",
    "clf.fit(X_train, y_train)\n",
    "\n",
    "# Predicting training and testing labels\n",
    "y_train_pred_count = clf.predict(X_train)\n",
    "y_test_pred_count = clf.predict(X_test)\n",
    "\n",
    "# Plotting confusion maxtrix of train and test data\n",
    "fig, (ax1, ax2) = plt.subplots(nrows=1, ncols=2, sharex=False, figsize=(15, 7))\n",
    "plot_confusion_matrix(estimator=clf, X=X_train, y_true=y_train, values_format='.5g', cmap='YlGnBu', ax=ax1)\n",
    "plot_confusion_matrix(estimator=clf, X=X_test, y_true=y_test, values_format='.5g', cmap='YlGnBu', ax=ax2)\n",
    "ax1.set_title(label='Train Data', size=14)\n",
    "ax2.set_title(label='Test Data', size=14)\n",
    "ax1.grid(b=False)\n",
    "ax2.grid(b=False)\n",
    "plt.suptitle(t='Confusion Matrix', size=16)\n",
    "plt.show()"
   ]
  },
  {
   "cell_type": "markdown",
   "metadata": {
    "id": "ZDS0FDA_HKT4"
   },
   "source": [
    "**Observation:**\n",
    "\n",
    "- **Train Data:**\n",
    "  - Model predicted **434 instances correctly** for **negative class** while **266 instances** were predicted **correctly** for **positive class**.\n",
    "  - Model **identified 5 instances negative but in actual** they **were positive**.\n",
    "  - Model **identified 7 instances positive but in actual** they **were negative**.\n",
    "\n",
    "- **Test Data:**\n",
    "  - Model predicted **95 instances correctly** for **negative class** while **51 instances** were predicted **correctly** for **positive class**.\n",
    "  - Model **identified 15 instance negative but in actual** it **was positive**.\n",
    "  - Model **identified 18 instances positive but in actual** they **were negative**."
   ]
  },
  {
   "cell_type": "code",
   "execution_count": null,
   "metadata": {
    "colab": {
     "base_uri": "https://localhost:8080/"
    },
    "executionInfo": {
     "elapsed": 783,
     "status": "ok",
     "timestamp": 1621504194129,
     "user": {
      "displayName": "Mukesh Kumar",
      "photoUrl": "https://lh3.googleusercontent.com/a-/AOh14GjTZH-ccUwdv--s75Iw1qfyi7gtUyH2m_-htD2e=s64",
      "userId": "01238672520445611335"
     },
     "user_tz": -330
    },
    "id": "ShNKXCKaHsfB",
    "outputId": "7f8f8e27-d00a-4a7b-b07c-197a39f4b880"
   },
   "outputs": [
    {
     "name": "stdout",
     "output_type": "stream",
     "text": [
      "                    Training Report          \n",
      "              precision    recall  f1-score   support\n",
      "\n",
      "           0       0.98      0.99      0.99       439\n",
      "           1       0.98      0.97      0.98       273\n",
      "\n",
      "    accuracy                           0.98       712\n",
      "   macro avg       0.98      0.98      0.98       712\n",
      "weighted avg       0.98      0.98      0.98       712\n",
      "\n",
      "                    Testing Report           \n",
      "              precision    recall  f1-score   support\n",
      "\n",
      "           0       0.84      0.86      0.85       110\n",
      "           1       0.77      0.74      0.76        69\n",
      "\n",
      "    accuracy                           0.82       179\n",
      "   macro avg       0.81      0.80      0.80       179\n",
      "weighted avg       0.81      0.82      0.81       179\n",
      "\n"
     ]
    }
   ],
   "source": [
    "train_report = classification_report(y_train, y_train_pred_count)\n",
    "test_report = classification_report(y_test, y_test_pred_count)\n",
    "print('                    Training Report          ')\n",
    "print(train_report)\n",
    "print('                    Testing Report           ')\n",
    "print(test_report)"
   ]
  },
  {
   "cell_type": "markdown",
   "metadata": {
    "id": "yujQDliSMDmd"
   },
   "source": [
    "**<h3>Feature Importance</h3>**"
   ]
  },
  {
   "cell_type": "code",
   "execution_count": null,
   "metadata": {
    "colab": {
     "base_uri": "https://localhost:8080/",
     "height": 428
    },
    "executionInfo": {
     "elapsed": 1237,
     "status": "ok",
     "timestamp": 1621506137405,
     "user": {
      "displayName": "Mukesh Kumar",
      "photoUrl": "https://lh3.googleusercontent.com/a-/AOh14GjTZH-ccUwdv--s75Iw1qfyi7gtUyH2m_-htD2e=s64",
      "userId": "01238672520445611335"
     },
     "user_tz": -330
    },
    "id": "BoMIMyR8IUGR",
    "outputId": "4598ca9f-db66-4677-eba8-6d382d5adb92"
   },
   "outputs": [
    {
     "data": {
      "image/png": "[encoded data removed]",
      "text/plain": [
       "<Figure size 1080x504 with 1 Axes>"
      ]
     },
     "metadata": {
      "needs_background": "light",
      "tags": []
     },
     "output_type": "display_data"
    }
   ],
   "source": [
    "features = X_train.columns\n",
    "importances = clf.feature_importances_\n",
    "indices = np.argsort(importances)\n",
    "\n",
    "plt.figure(figsize=[15, 7])\n",
    "plt.barh(y=range(len(indices)), width=importances[indices], color='g', align='center')\n",
    "plt.yticks(ticks=range(len(indices)), labels=[features[i] for i in indices], size=12)\n",
    "plt.grid(b=True)\n",
    "plt.show()"
   ]
  },
  {
   "cell_type": "markdown",
   "metadata": {
    "id": "iWTXMYpaTgoT"
   },
   "source": [
    "<a name = Section82></a>\n",
    "### **8.2 Hyperparameter Optimized Model Development & Evaluation**\n",
    "\n",
    "- Here we will develop random forest classifier using some hyperparameter setting.\n",
    "\n",
    "- We will be applying __RandomizedsearchCV__ method for __exhaustive search over specified parameter values__ of estimator.<br/>\n",
    "\n",
    "- To know more about the different parameters in random forest classifier, refer the [**documentation**](http://scikit-learn.org/stable/modules/generated/sklearn.ensemble.RandomForestClassifier.html). <br/>\n",
    "\n",
    "- Below we will apply gridsearch over the following parameters:\n",
    "  - criterion \n",
    "  - max_depth \n",
    "  - n_estimators\n",
    "  - min_samples_split\n",
    "  - min_samples_leaf\n",
    "\n",
    "- You can change other parameters also and compare the impact of it via calculating __accuracy score & confusion matrix__"
   ]
  },
  {
   "cell_type": "code",
   "execution_count": null,
   "metadata": {
    "colab": {
     "base_uri": "https://localhost:8080/",
     "height": 465
    },
    "executionInfo": {
     "elapsed": 218787,
     "status": "ok",
     "timestamp": 1621506976311,
     "user": {
      "displayName": "Mukesh Kumar",
      "photoUrl": "https://lh3.googleusercontent.com/a-/AOh14GjTZH-ccUwdv--s75Iw1qfyi7gtUyH2m_-htD2e=s64",
      "userId": "01238672520445611335"
     },
     "user_tz": -330
    },
    "id": "ZDDgWPTYRItb",
    "outputId": "179137ed-b277-4598-8d16-c872e0492130"
   },
   "outputs": [
    {
     "data": {
      "image/png": "[encoded data removed]",
      "text/plain": [
       "<Figure size 1080x504 with 4 Axes>"
      ]
     },
     "metadata": {
      "needs_background": "light",
      "tags": []
     },
     "output_type": "display_data"
    }
   ],
   "source": [
    "# Parameters for GridSearchCV\n",
    "# Specify parameters and distributions to sample from\n",
    "param_dist = {\"max_depth\": range(2,5),\n",
    "              \"min_samples_split\": sp_randint(2, 11),\n",
    "              \"min_samples_leaf\": sp_randint(1, 11),\n",
    "              \"bootstrap\": [True, False],\n",
    "              \"n_estimators\": [100, 400, 700, 1000, 1500],\n",
    "              \"criterion\" : [\"gini\", \"entropy\"],\n",
    "              'max_features': ['sqrt', 'log2', None]\n",
    "             }\n",
    "\n",
    "# Run randomized search\n",
    "random_search = RandomizedSearchCV(estimator=clf, \n",
    "                                   param_distributions=param_dist,\n",
    "                                   n_iter=50,\n",
    "                                   n_jobs=-1)\n",
    "\n",
    "random_search.fit(X_train, y_train)\n",
    "\n",
    "# Predicting training and testing labels\n",
    "y_train_pred_count = random_search.predict(X_train)\n",
    "y_test_pred_count = random_search.predict(X_test)\n",
    "\n",
    "# Plotting confusion maxtrix of train and test data\n",
    "fig, (ax1, ax2) = plt.subplots(nrows=1, ncols=2, sharex=False, figsize=(15, 7))\n",
    "plot_confusion_matrix(estimator=random_search, X=X_train, y_true=y_train, values_format='.5g', cmap='YlGnBu', ax=ax1)\n",
    "plot_confusion_matrix(estimator=random_search, X=X_test, y_true=y_test, values_format='.5g', cmap='YlGnBu', ax=ax2)\n",
    "ax1.set_title(label='Train Data', size=14)\n",
    "ax2.set_title(label='Test Data', size=14)\n",
    "ax1.grid(b=False)\n",
    "ax2.grid(b=False)\n",
    "plt.suptitle(t='Confusion Matrix', size=16)\n",
    "plt.show()"
   ]
  },
  {
   "cell_type": "code",
   "execution_count": null,
   "metadata": {
    "colab": {
     "base_uri": "https://localhost:8080/"
    },
    "executionInfo": {
     "elapsed": 796,
     "status": "ok",
     "timestamp": 1621507006788,
     "user": {
      "displayName": "Mukesh Kumar",
      "photoUrl": "https://lh3.googleusercontent.com/a-/AOh14GjTZH-ccUwdv--s75Iw1qfyi7gtUyH2m_-htD2e=s64",
      "userId": "01238672520445611335"
     },
     "user_tz": -330
    },
    "id": "lvZY7o__RIiL",
    "outputId": "7b0e1086-a124-40f0-d6d5-e683910de576"
   },
   "outputs": [
    {
     "name": "stdout",
     "output_type": "stream",
     "text": [
      "                    Training Report          \n",
      "              precision    recall  f1-score   support\n",
      "\n",
      "           0       0.85      0.89      0.87       439\n",
      "           1       0.81      0.75      0.78       273\n",
      "\n",
      "    accuracy                           0.84       712\n",
      "   macro avg       0.83      0.82      0.82       712\n",
      "weighted avg       0.84      0.84      0.84       712\n",
      "\n",
      "                    Testing Report           \n",
      "              precision    recall  f1-score   support\n",
      "\n",
      "           0       0.84      0.89      0.87       110\n",
      "           1       0.81      0.74      0.77        69\n",
      "\n",
      "    accuracy                           0.83       179\n",
      "   macro avg       0.83      0.82      0.82       179\n",
      "weighted avg       0.83      0.83      0.83       179\n",
      "\n"
     ]
    }
   ],
   "source": [
    "train_report = classification_report(y_train, y_train_pred_count)\n",
    "test_report = classification_report(y_test, y_test_pred_count)\n",
    "print('                    Training Report          ')\n",
    "print(train_report)\n",
    "print('                    Testing Report           ')\n",
    "print(test_report)"
   ]
  },
  {
   "cell_type": "markdown",
   "metadata": {
    "id": "rlsayDrsVf29"
   },
   "source": [
    "**Observations:**\n",
    "  \n",
    "- We can observe that our **hyperoptimized model results** have **improved** from the baseline model resuls.\n",
    "\n",
    "- Now, our **model** is **generalizing very well** i.e same result on test set as that of train set."
   ]
  },
  {
   "cell_type": "markdown",
   "metadata": {
    "id": "_H3bOK6bXgb7"
   },
   "source": [
    "<a name = Section9></a>\n",
    "\n",
    "---\n",
    "# **9. Summarization**\n",
    "---"
   ]
  },
  {
   "cell_type": "markdown",
   "metadata": {
    "id": "HFqTdgNaXix8"
   },
   "source": [
    "<a name = Section91></a>\n",
    "### **9.1 Conclusion**\n",
    "\n",
    "\n",
    "- We have seen the **impact** of various factors such as **Gender**, **Age**, **Port of Embarkment**, **FamilySize** on the **rate of survival**.\n",
    "\n",
    "- **Women** have a **higher** chances of **survival** than men.\n",
    "\n",
    "- We have done **feature selection** and removed the **features** which does not seem to have any effect in our **objective**.\n",
    "\n",
    "- We **scaled our data** so that one feature does not have too much weightage in explaining the target.\n",
    "\n",
    "- We **performed model development** using default and custom parater settings using **RandomSearchCV**.\n",
    "\n",
    "- RandomSearchCV turns out to give **better results** than baseline model."
   ]
  },
  {
   "cell_type": "markdown",
   "metadata": {
    "id": "uLFR_NSYZcEa"
   },
   "source": [
    "<a name = Section92></a>\n",
    "### **9.2 Actionable Insights**\n",
    "\n",
    "- **More** number of **life-boats** and **life-jackets** should be available to **ensure passengers rescue**.\n",
    "\n",
    "- Passengers from **higher** classes should also **help others** during the time of **crisis**.\n",
    "\n",
    "- **Disabled** passengers should be given **more priority** during the rescue.\n",
    "\n",
    "- There should be **more professional crew members** to escort passengers during such emergencies.\n",
    "\n",
    "- **Passengers** can be **trained** for **emergency** evacuations during or before the voyage to better co-ordinate with and help the crew on-board.\n",
    "\n",
    "- **Tools** such as flares, search lights, radar should be **made available** adequately."
   ]
  }
 ],
 "metadata": {
  "colab": {
   "authorship_tag": "ABX9TyP76Q2YtOqH25wDk51mJ68Z",
   "collapsed_sections": [],
   "name": "Random Forest (Case Study).ipynb",
   "provenance": []
  },
  "kernelspec": {
   "display_name": "Python 3",
   "language": "python",
   "name": "python3"
  },
  "language_info": {
   "codemirror_mode": {
    "name": "ipython",
    "version": 3
   },
   "file_extension": ".py",
   "mimetype": "text/x-python",
   "name": "python",
   "nbconvert_exporter": "python",
   "pygments_lexer": "ipython3",
   "version": "3.8.5"
  }
 },
 "nbformat": 4,
 "nbformat_minor": 1
}
